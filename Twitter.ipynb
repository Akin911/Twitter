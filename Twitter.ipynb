{
 "cells": [
  {
   "cell_type": "code",
   "execution_count": 29,
   "id": "417a24df-ef0e-46e7-90a8-957c9123f58c",
   "metadata": {},
   "outputs": [],
   "source": [
    "import pandas as pd \n",
    "from ntscraper import Nitter"
   ]
  },
  {
   "cell_type": "code",
   "execution_count": 30,
   "id": "9a17ab7b-c99c-44e4-9be8-716a6d44b8d0",
   "metadata": {},
   "outputs": [
    {
     "name": "stderr",
     "output_type": "stream",
     "text": [
      "Testing instances:  16%|█▌        | 12/77 [00:27<01:52,  1.73s/it]"
     ]
    },
    {
     "name": "stdout",
     "output_type": "stream",
     "text": [
      "24-Jul-24 18:30:43 - Certificate did not match expected hostname: nitter.esmailelbob.xyz. Certificate: {'subject': ((('commonName', 'esmailelbob.xyz'),),), 'issuer': ((('countryName', 'US'),), (('organizationName', \"Let's Encrypt\"),), (('commonName', 'E6'),)), 'version': 3, 'serialNumber': '035E16081D6A32AF3A11F9CF35D43FD0249E', 'notBefore': 'Jul  6 18:47:31 2024 GMT', 'notAfter': 'Oct  4 18:47:30 2024 GMT', 'subjectAltName': (('DNS', 'esmailelbob.xyz'),), 'OCSP': ('http://e6.o.lencr.org',), 'caIssuers': ('http://e6.i.lencr.org/',)}\n"
     ]
    },
    {
     "name": "stderr",
     "output_type": "stream",
     "text": [
      "Testing instances:  92%|█████████▏| 71/77 [03:23<00:11,  1.93s/it]"
     ]
    },
    {
     "name": "stdout",
     "output_type": "stream",
     "text": [
      "24-Jul-24 18:33:38 - Certificate did not match expected hostname: nt.ggtyler.dev. Certificate: {'subject': ((('commonName', '4g.ggtyler.dev'),),), 'issuer': ((('countryName', 'US'),), (('organizationName', \"Let's Encrypt\"),), (('commonName', 'E6'),)), 'version': 3, 'serialNumber': '043C83E6DFFFA194D2CDA2DE14B572820A1C', 'notBefore': 'Jul 13 13:08:14 2024 GMT', 'notAfter': 'Oct 11 13:08:13 2024 GMT', 'subjectAltName': (('DNS', '4g.ggtyler.dev'),), 'OCSP': ('http://e6.o.lencr.org',), 'caIssuers': ('http://e6.i.lencr.org/',)}\n"
     ]
    },
    {
     "name": "stderr",
     "output_type": "stream",
     "text": [
      "Testing instances:  95%|█████████▍| 73/77 [03:25<00:05,  1.40s/it]"
     ]
    },
    {
     "name": "stdout",
     "output_type": "stream",
     "text": [
      "24-Jul-24 18:33:42 - Certificate did not match expected hostname: nitter.uni-sonia.com. Certificate: {'subject': ((('commonName', '*.xserver.jp'),),), 'issuer': ((('countryName', 'JP'),), (('organizationName', 'CloudSecure Corporation'),), (('commonName', 'CloudSecure RSA Domain Validation Secure Server CA 2'),)), 'version': 3, 'serialNumber': 'ACA67AD2030638EE2DCE8E845B8299A6', 'notBefore': 'Mar 11 00:00:00 2024 GMT', 'notAfter': 'Apr 11 23:59:59 2025 GMT', 'subjectAltName': (('DNS', '*.xserver.jp'), ('DNS', 'xserver.jp')), 'OCSP': ('http://ocsp.sectigo.com',), 'caIssuers': ('http://crt.sectigo.com/CloudSecureRSADomainValidationSecureServerCA2.crt',)}\n"
     ]
    },
    {
     "name": "stderr",
     "output_type": "stream",
     "text": [
      "Testing instances: 100%|██████████| 77/77 [03:54<00:00,  3.05s/it]\n"
     ]
    }
   ],
   "source": [
    "scraper = Nitter()"
   ]
  },
  {
   "cell_type": "code",
   "execution_count": 40,
   "id": "0115e44a-278a-4e58-8722-4dff2a536f21",
   "metadata": {},
   "outputs": [
    {
     "name": "stdout",
     "output_type": "stream",
     "text": [
      "24-Jul-24 18:44:32 - No instance specified, using random instance https://nitter.privacydev.net\n",
      "24-Jul-24 18:44:45 - Current stats for Ajibesin5: 10 tweets, 0 threads...\n"
     ]
    }
   ],
   "source": [
    "tweets = scraper.get_tweets(\"Ajibesin5\", mode=\"user\", number=10)"
   ]
  },
  {
   "cell_type": "code",
   "execution_count": 55,
   "id": "338891a4-6113-4176-a69c-2b9c44fb1560",
   "metadata": {},
   "outputs": [],
   "source": [
    "final_tweets = []\n",
    "for tweet in tweets[\"tweets\"]:\n",
    "    data = [tweet[\"link\"], tweet[\"text\"], tweet[\"date\"], tweet[\"stats\"][\"likes\"], tweet[\"stats\"][\"comments\"]]\n",
    "    final_tweets.append(data)"
   ]
  },
  {
   "cell_type": "code",
   "execution_count": 56,
   "id": "582cace5-0f49-455f-af03-5bc25fb17df4",
   "metadata": {},
   "outputs": [],
   "source": [
    "data = pd.DataFrame(final_tweets, columns =[\"link\", \"text\", \"date\", \"No_of_likes\", \"No_of_comment\"])"
   ]
  },
  {
   "cell_type": "code",
   "execution_count": 57,
   "id": "0c059e51-4927-41b7-8dd7-0f802a634293",
   "metadata": {},
   "outputs": [
    {
     "data": {
      "text/html": [
       "<div>\n",
       "<style scoped>\n",
       "    .dataframe tbody tr th:only-of-type {\n",
       "        vertical-align: middle;\n",
       "    }\n",
       "\n",
       "    .dataframe tbody tr th {\n",
       "        vertical-align: top;\n",
       "    }\n",
       "\n",
       "    .dataframe thead th {\n",
       "        text-align: right;\n",
       "    }\n",
       "</style>\n",
       "<table border=\"1\" class=\"dataframe\">\n",
       "  <thead>\n",
       "    <tr style=\"text-align: right;\">\n",
       "      <th></th>\n",
       "      <th>link</th>\n",
       "      <th>text</th>\n",
       "      <th>date</th>\n",
       "      <th>No_of_likes</th>\n",
       "      <th>No_of_comment</th>\n",
       "    </tr>\n",
       "  </thead>\n",
       "  <tbody>\n",
       "    <tr>\n",
       "      <th>0</th>\n",
       "      <td>https://twitter.com/Ajibesin5/status/173255344...</td>\n",
       "      <td>This is the Nigeria Economy breakdown of every...</td>\n",
       "      <td>Dec 7, 2023 · 12:11 AM UTC</td>\n",
       "      <td>2</td>\n",
       "      <td>0</td>\n",
       "    </tr>\n",
       "    <tr>\n",
       "      <th>1</th>\n",
       "      <td>https://twitter.com/Ajibesin5/status/174171273...</td>\n",
       "      <td>If you’re working or learning towards working ...</td>\n",
       "      <td>Jan 1, 2024 · 6:47 AM UTC</td>\n",
       "      <td>0</td>\n",
       "      <td>0</td>\n",
       "    </tr>\n",
       "    <tr>\n",
       "      <th>2</th>\n",
       "      <td>https://twitter.com/Ajibesin5/status/174171247...</td>\n",
       "      <td>- IT Procurement Specialist - Smart City Techn...</td>\n",
       "      <td>Jan 1, 2024 · 6:46 AM UTC</td>\n",
       "      <td>0</td>\n",
       "      <td>0</td>\n",
       "    </tr>\n",
       "    <tr>\n",
       "      <th>3</th>\n",
       "      <td>https://twitter.com/Ajibesin5/status/174171233...</td>\n",
       "      <td>Hey Twitter Algorithm, I would like to connect...</td>\n",
       "      <td>Jan 1, 2024 · 6:45 AM UTC</td>\n",
       "      <td>3</td>\n",
       "      <td>2</td>\n",
       "    </tr>\n",
       "    <tr>\n",
       "      <th>4</th>\n",
       "      <td>https://twitter.com/Ajibesin5/status/172855158...</td>\n",
       "      <td>I'm hosting Are you a data analyst or did you ...</td>\n",
       "      <td>Nov 25, 2023 · 11:09 PM UTC</td>\n",
       "      <td>0</td>\n",
       "      <td>0</td>\n",
       "    </tr>\n",
       "    <tr>\n",
       "      <th>5</th>\n",
       "      <td>https://twitter.com/Ajibesin5/status/172070325...</td>\n",
       "      <td>Miaztech Cybersecurity class now in progress. ...</td>\n",
       "      <td>Nov 4, 2023 · 7:23 AM UTC</td>\n",
       "      <td>1</td>\n",
       "      <td>0</td>\n",
       "    </tr>\n",
       "    <tr>\n",
       "      <th>6</th>\n",
       "      <td>https://twitter.com/Ajibesin5/status/171463863...</td>\n",
       "      <td>I just built a custom train AI chat into my Bo...</td>\n",
       "      <td>Oct 18, 2023 · 1:44 PM UTC</td>\n",
       "      <td>1</td>\n",
       "      <td>0</td>\n",
       "    </tr>\n",
       "    <tr>\n",
       "      <th>7</th>\n",
       "      <td>https://twitter.com/Ajibesin5/status/171376748...</td>\n",
       "      <td>Good morning guy’s check out this project of m...</td>\n",
       "      <td>Oct 16, 2023 · 4:03 AM UTC</td>\n",
       "      <td>2</td>\n",
       "      <td>0</td>\n",
       "    </tr>\n",
       "    <tr>\n",
       "      <th>8</th>\n",
       "      <td>https://twitter.com/Ajibesin5/status/171215528...</td>\n",
       "      <td>Hello guy’s, Just a quick note to let everyone...</td>\n",
       "      <td>Oct 11, 2023 · 5:16 PM UTC</td>\n",
       "      <td>1</td>\n",
       "      <td>0</td>\n",
       "    </tr>\n",
       "    <tr>\n",
       "      <th>9</th>\n",
       "      <td>https://twitter.com/Ajibesin5/status/171128630...</td>\n",
       "      <td>https://www.linkedin.com/posts/ajibesin-azeez-...</td>\n",
       "      <td>Oct 9, 2023 · 7:43 AM UTC</td>\n",
       "      <td>0</td>\n",
       "      <td>0</td>\n",
       "    </tr>\n",
       "  </tbody>\n",
       "</table>\n",
       "</div>"
      ],
      "text/plain": [
       "                                                link  \\\n",
       "0  https://twitter.com/Ajibesin5/status/173255344...   \n",
       "1  https://twitter.com/Ajibesin5/status/174171273...   \n",
       "2  https://twitter.com/Ajibesin5/status/174171247...   \n",
       "3  https://twitter.com/Ajibesin5/status/174171233...   \n",
       "4  https://twitter.com/Ajibesin5/status/172855158...   \n",
       "5  https://twitter.com/Ajibesin5/status/172070325...   \n",
       "6  https://twitter.com/Ajibesin5/status/171463863...   \n",
       "7  https://twitter.com/Ajibesin5/status/171376748...   \n",
       "8  https://twitter.com/Ajibesin5/status/171215528...   \n",
       "9  https://twitter.com/Ajibesin5/status/171128630...   \n",
       "\n",
       "                                                text  \\\n",
       "0  This is the Nigeria Economy breakdown of every...   \n",
       "1  If you’re working or learning towards working ...   \n",
       "2  - IT Procurement Specialist - Smart City Techn...   \n",
       "3  Hey Twitter Algorithm, I would like to connect...   \n",
       "4  I'm hosting Are you a data analyst or did you ...   \n",
       "5  Miaztech Cybersecurity class now in progress. ...   \n",
       "6  I just built a custom train AI chat into my Bo...   \n",
       "7  Good morning guy’s check out this project of m...   \n",
       "8  Hello guy’s, Just a quick note to let everyone...   \n",
       "9  https://www.linkedin.com/posts/ajibesin-azeez-...   \n",
       "\n",
       "                          date  No_of_likes  No_of_comment  \n",
       "0   Dec 7, 2023 · 12:11 AM UTC            2              0  \n",
       "1    Jan 1, 2024 · 6:47 AM UTC            0              0  \n",
       "2    Jan 1, 2024 · 6:46 AM UTC            0              0  \n",
       "3    Jan 1, 2024 · 6:45 AM UTC            3              2  \n",
       "4  Nov 25, 2023 · 11:09 PM UTC            0              0  \n",
       "5    Nov 4, 2023 · 7:23 AM UTC            1              0  \n",
       "6   Oct 18, 2023 · 1:44 PM UTC            1              0  \n",
       "7   Oct 16, 2023 · 4:03 AM UTC            2              0  \n",
       "8   Oct 11, 2023 · 5:16 PM UTC            1              0  \n",
       "9    Oct 9, 2023 · 7:43 AM UTC            0              0  "
      ]
     },
     "execution_count": 57,
     "metadata": {},
     "output_type": "execute_result"
    }
   ],
   "source": [
    "data"
   ]
  },
  {
   "cell_type": "code",
   "execution_count": null,
   "id": "b2cdb813-aaf9-4580-853e-fdf949197596",
   "metadata": {},
   "outputs": [],
   "source": []
  }
 ],
 "metadata": {
  "kernelspec": {
   "display_name": "Python 3 (ipykernel)",
   "language": "python",
   "name": "python3"
  },
  "language_info": {
   "codemirror_mode": {
    "name": "ipython",
    "version": 3
   },
   "file_extension": ".py",
   "mimetype": "text/x-python",
   "name": "python",
   "nbconvert_exporter": "python",
   "pygments_lexer": "ipython3",
   "version": "3.9.7"
  }
 },
 "nbformat": 4,
 "nbformat_minor": 5
}
